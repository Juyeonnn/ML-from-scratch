{
  "nbformat": 4,
  "nbformat_minor": 0,
  "metadata": {
    "colab": {
      "name": "custom back/forward function",
      "provenance": [],
      "collapsed_sections": [],
      "machine_shape": "hm",
      "include_colab_link": true
    },
    "kernelspec": {
      "name": "python3",
      "display_name": "Python 3"
    },
    "language_info": {
      "name": "python"
    },
    "accelerator": "GPU"
  },
  "cells": [
    {
      "cell_type": "markdown",
      "metadata": {
        "id": "view-in-github",
        "colab_type": "text"
      },
      "source": [
        "<a href=\"https://colab.research.google.com/github/Juyeonnn/ML-from-scratch/blob/main/custom_back_forward_function.ipynb\" target=\"_parent\"><img src=\"https://colab.research.google.com/assets/colab-badge.svg\" alt=\"Open In Colab\"/></a>"
      ]
    },
    {
      "cell_type": "code",
      "metadata": {
        "id": "ZVvo3D7wXNP-",
        "colab": {
          "base_uri": "https://localhost:8080/"
        },
        "outputId": "50181188-90b9-4b59-f126-02199dea365d"
      },
      "source": [
        "\"\"\"\n",
        "train custom model with 4 parameters to approximate tanh function\n",
        "by building custom forward / backward function (not using pytorch built-in module)\n",
        "\"\"\"\n",
        "\n",
        "import torch\n",
        "import math\n",
        "\n",
        "class CustomFunction(torch.autograd.Function):\n",
        "    @staticmethod\n",
        "    def forward(ctx, input):\n",
        "        ctx.save_for_backward(input)\n",
        "        return 5 * input ** 3 - 10 * input\n",
        "\n",
        "    @staticmethod\n",
        "    def backward(ctx, grad_output):\n",
        "        input, = ctx.saved_tensors\n",
        "        # By chain rule, multiply grad_output by Differentiated forward function \n",
        "        return grad_output * (15 * input ** 2 - 10)  \n",
        "\n",
        "dtype = torch.float\n",
        "device = torch.device(\"cuda:0\")\n",
        "\n",
        "x = torch.linspace(-math.pi, math.pi, 2000, device=device, dtype=dtype)\n",
        "y = torch.tanh(x)   # approximate tanh function \n",
        "\n",
        "# Weight initialization\n",
        "# equires_grad = True --> compute gradients during the backward pass\n",
        "a = torch.full((), 0.0, device=device, dtype=dtype, requires_grad=True)\n",
        "b = torch.full((), -1.0, device=device, dtype=dtype, requires_grad=True)\n",
        "c = torch.full((), 0.0, device=device, dtype=dtype, requires_grad=True)\n",
        "d = torch.full((), 0.3, device=device, dtype=dtype, requires_grad=True)\n",
        "\n",
        "loss_history = []\n",
        "learning_rate = 4e-6\n",
        "for t in range(2000):\n",
        "\n",
        "    # P3 : custom backward function\n",
        "    P3 = CustomFunction.apply\n",
        "\n",
        "    # predict y --> forward pass  \n",
        "    y_pred = a + b * P3(c + d * x)\n",
        "\n",
        "    # compute loss\n",
        "    loss = (y_pred - y).pow(2).sum()\n",
        "    loss_history.append(loss)\n",
        "    if t % 100 == 0:\n",
        "        print(t,loss.item())\n",
        "\n",
        "    # autograd --> compute the backward pass\n",
        "    loss.backward()\n",
        "\n",
        "    # update weights\n",
        "    with torch.no_grad():\n",
        "        # update w = w - lr*grad\n",
        "        a -= learning_rate * a.grad\n",
        "        b -= learning_rate * b.grad\n",
        "        c -= learning_rate * c.grad\n",
        "        d -= learning_rate * d.grad\n",
        "\n",
        "        # Manually zero the gradients after updating weights\n",
        "        a.grad = None\n",
        "        b.grad = None\n",
        "        c.grad = None\n",
        "        d.grad = None\n"
      ],
      "execution_count": 40,
      "outputs": [
        {
          "output_type": "stream",
          "name": "stdout",
          "text": [
            "0 20812.013671875\n",
            "100 96.5438232421875\n",
            "200 96.40664672851562\n",
            "300 96.25772857666016\n",
            "400 96.09526824951172\n",
            "500 95.91709899902344\n",
            "600 95.72050476074219\n",
            "700 95.50210571289062\n",
            "800 95.25752258300781\n",
            "900 94.98112487792969\n",
            "1000 94.66536712646484\n",
            "1100 94.29998779296875\n",
            "1200 93.87057495117188\n",
            "1300 93.35606384277344\n",
            "1400 92.72444152832031\n",
            "1500 91.92401123046875\n",
            "1600 90.86488342285156\n",
            "1700 89.37413787841797\n",
            "1800 87.06602478027344\n",
            "1900 82.8572769165039\n"
          ]
        }
      ]
    },
    {
      "cell_type": "code",
      "source": [
        "import matplotlib.pyplot as plt\n",
        "import numpy as np\n",
        "\n",
        "print(f'Custom Approximate Function : y = {a.item()} + {b.item()} * P3({c.item()} + {d.item()} x)')\n",
        "\n",
        "loss_history = [l.cpu().detach().numpy() for l in loss_history]\n",
        "x_len = np.arange(len(loss_history))\n",
        "plt.plot(x_len,loss_history)\n",
        "plt.xlabel('epoch')\n",
        "plt.ylabel('loss')\n",
        "plt.show()\n",
        "\n",
        "#show only before 50 epoch\n",
        "plt.plot(x_len[:50],loss_history[:50])\n",
        "plt.xlabel('epoch')\n",
        "plt.ylabel('loss')\n",
        "plt.show()\n",
        "\n"
      ],
      "metadata": {
        "colab": {
          "base_uri": "https://localhost:8080/",
          "height": 578
        },
        "id": "8bb6zKIyhBn5",
        "outputId": "a63c849b-c15a-49e1-e305-61ef2cd92ba2"
      },
      "execution_count": 41,
      "outputs": [
        {
          "output_type": "stream",
          "name": "stdout",
          "text": [
            "Custom Approximate Function : y = -1.3685225175308346e-10 + -0.27151772379875183 * P3(4.138949460941177e-10 + 0.18430669605731964 x)\n"
          ]
        },
        {
          "output_type": "display_data",
          "data": {
            "text/plain": [
              "<Figure size 432x288 with 1 Axes>"
            ],
            "image/png": "[encoded data removed]"
          },
          "metadata": {
            "needs_background": "light"
          }
        },
        {
          "output_type": "display_data",
          "data": {
            "text/plain": [
              "<Figure size 432x288 with 1 Axes>"
            ],
            "image/png": "[encoded data removed]"
          },
          "metadata": {
            "needs_background": "light"
          }
        }
      ]
    }
  ]
}